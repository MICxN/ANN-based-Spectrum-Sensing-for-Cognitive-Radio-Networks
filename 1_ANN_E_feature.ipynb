{
  "nbformat": 4,
  "nbformat_minor": 0,
  "metadata": {
    "accelerator": "GPU",
    "colab": {
      "name": "ANN_E_feature.ipynb",
      "provenance": [],
      "collapsed_sections": [],
      "toc_visible": true
    },
    "kernelspec": {
      "display_name": "Python 3",
      "language": "python",
      "name": "python3"
    },
    "language_info": {
      "codemirror_mode": {
        "name": "ipython",
        "version": 3
      },
      "file_extension": ".py",
      "mimetype": "text/x-python",
      "name": "python",
      "nbconvert_exporter": "python",
      "pygments_lexer": "ipython3",
      "version": "3.6.6"
    }
  },
  "cells": [
    {
      "cell_type": "markdown",
      "metadata": {
        "id": "-SCM5tjfD07X"
      },
      "source": [
        "# ANN based Spectrum Sensing for CRN [PIMRC-2017]\n",
        "\n",
        "---\n",
        "\n"
      ]
    },
    {
      "cell_type": "markdown",
      "metadata": {
        "id": "QlF3UwUcmhbO"
      },
      "source": [
        "\n",
        "\n",
        "---\n",
        "\n",
        "Copyright: M. R. Vyas, Dhaval K. Patel and M. Lopez-Benitez\n",
        "\n",
        "---\n",
        "\n",
        "\n",
        "\n",
        "\n",
        "\n"
      ]
    },
    {
      "cell_type": "markdown",
      "metadata": {
        "id": "O04BcHbRDNpS"
      },
      "source": [
        "# 1. Importing and Initializing data"
      ]
    },
    {
      "cell_type": "markdown",
      "metadata": {
        "id": "h1auQ1KzMRY-"
      },
      "source": [
        "The list of packages that will be used in the study: -\n",
        "\n",
        "1. numpy - For vectorized implementation\n",
        "2. math - Inbuilt support for mathematical operations\n",
        "3. time - measuring runtime\n",
        "4. keras - for ANN model, training and testing"
      ]
    },
    {
      "cell_type": "code",
      "metadata": {
        "id": "8TQRcue3CbCI"
      },
      "source": [
        "import numpy as np\n",
        "import math\n",
        "from scipy.stats import norm\n",
        "import time\n",
        "import pandas as pd\n",
        "import statsmodels.api as sm\n",
        "from keras.layers import Dense, Dropout, LSTM, Embedding\n",
        "from keras.models import Sequential\n",
        "from matplotlib import pyplot as plt\n",
        "#import plotly.offline as py\n",
        "#import plotly.graph_objs as go\n",
        "#py.init_notebook_mode(connected=True)\n",
        "%matplotlib inline"
      ],
      "execution_count": 12,
      "outputs": []
    },
    {
      "cell_type": "markdown",
      "metadata": {
        "id": "WFkwhVvQNphx"
      },
      "source": [
        "Data for all he four technologies are loaded into their respective vector names. They are all reshaped to convert them from Rank 1 arrays to proper Numpy vectors."
      ]
    },
    {
      "cell_type": "markdown",
      "metadata": {
        "id": "j5l00dPsiCGM"
      },
      "source": [
        "# 2.Retreiving data"
      ]
    },
    {
      "cell_type": "markdown",
      "metadata": {
        "id": "e21wXUnxiIwn"
      },
      "source": [
        "Retreiving data from the files for all the four wireless technologies."
      ]
    },
    {
      "cell_type": "code",
      "metadata": {
        "id": "68mM0GDTWBcb",
        "colab": {
          "base_uri": "https://localhost:8080/"
        },
        "outputId": "795a09b8-b6d8-4f48-ecfa-95a8e8f4638b"
      },
      "source": [
        "# Importing data from file (96.7 MHz)\n",
        "FM = np.fromfile('96_7_20db', dtype=np.float32)\n",
        "\n",
        "# Reshaping to convert to a proper NUMPY vector\n",
        "FM = np.reshape(FM, (FM.shape[0], 1))\n",
        "\n",
        "# Shape of FM signal vector\n",
        "print(\"Size of FM: \" + str(FM.shape))\n",
        "\n",
        "# # Importing data from file (536.5 MHz)\n",
        "# UHF = np.fromfile('536_5.dat', dtype=np.float32)\n",
        "\n",
        "# # Reshaping to convert to a proper NUMPY vector\n",
        "# UHF = np.reshape(UHF, (UHF.shape[0], 1))\n",
        "\n",
        "# # Shape of UHF signal vector\n",
        "# print(\"Size of UHF: \" + str(UHF.shape))\n",
        "\n",
        "# # Importing data from file (959 MHz)\n",
        "# GSM = np.fromfile('959_45db', dtype=np.float32)\n",
        "\n",
        "# # Reshaping to convert to a proper NUMPY vector\n",
        "# GSM = np.reshape(GSM, (GSM.shape[0], 1))\n",
        "\n",
        "# # Shape of GSM signal vector\n",
        "# print(\"Size of GSM: \" + str(GSM.shape))\n",
        "\n",
        "# # Importing data from file (1840 MHz)\n",
        "# DCS = np.fromfile('1840', dtype=np.float32)\n",
        "\n",
        "# # Reshaping to convert to a proper NUMPY vector\n",
        "# DCS = np.reshape(DCS, (DCS.shape[0], 1))\n",
        "\n",
        "# # Shape of DCS signal vector\n",
        "# print(\"Size of DCS: \" + str(DCS.shape))"
      ],
      "execution_count": 13,
      "outputs": [
        {
          "output_type": "stream",
          "text": [
            "Size of FM: (1310720, 1)\n"
          ],
          "name": "stdout"
        }
      ]
    },
    {
      "cell_type": "markdown",
      "metadata": {
        "id": "ssWTcXDnptCo"
      },
      "source": [
        "# 3. Creating NUMPY equivalent for bandpower function"
      ]
    },
    {
      "cell_type": "markdown",
      "metadata": {
        "id": "psMi-MZGOSgU"
      },
      "source": [
        "A MATLAB equivalent for bandpower function is created."
      ]
    },
    {
      "cell_type": "code",
      "metadata": {
        "id": "vUm25JALpO2h"
      },
      "source": [
        "def bandpower(signal):\n",
        "  return np.mean(signal ** 2)"
      ],
      "execution_count": 14,
      "outputs": []
    },
    {
      "cell_type": "code",
      "metadata": {
        "id": "TPhaejxqrtTa",
        "colab": {
          "base_uri": "https://localhost:8080/"
        },
        "outputId": "5e0eeeed-bec7-4a3b-e348-759f70e4e2b2"
      },
      "source": [
        "bandpower(FM)"
      ],
      "execution_count": 15,
      "outputs": [
        {
          "output_type": "execute_result",
          "data": {
            "text/plain": [
              "0.08954516"
            ]
          },
          "metadata": {
            "tags": []
          },
          "execution_count": 15
        }
      ]
    },
    {
      "cell_type": "markdown",
      "metadata": {
        "id": "yy1GypyCpqtT"
      },
      "source": [
        "# 4. Creating NUMPY equivalent for AWGN (Additive White Gaussian Noise) function"
      ]
    },
    {
      "cell_type": "markdown",
      "metadata": {
        "id": "BG8yHBNTxPnm"
      },
      "source": [
        "First of all, the SNR (Signal-to-noise ratio) is converted from decibel scale to linear scale using the given formula:\n",
        "\n",
        "$$\\text{SNR}_{\\text{linear}} = 10 ^ {\\frac{\\text{SNR}_{\\text{dB}}}{10} }$$\n",
        "\n",
        "\n",
        "The variance of standard the signal is adjusted using the formula given below:\n",
        "\n",
        "$$\\text{SNR}_{\\text{linear}} = \\frac{Power(signal)}{Var(noise)}\\\\\n",
        "\\implies \\boxed{Power(signal) = Var(noise) \\times \\text{SNR}_{\\text{linear}}}$$"
      ]
    },
    {
      "cell_type": "code",
      "metadata": {
        "id": "UiQO0BKGKlHK"
      },
      "source": [
        "def awgn(signal, desired_snr):\n",
        "  \n",
        "  # Converting the SNR from dB scale to linear scale\n",
        "  snr_linear = math.pow(10, desired_snr / 10)\n",
        "  \n",
        "  # Standard normally distributed noise\n",
        "  noise = np.random.randn(signal.shape[0], 1)\n",
        "  \n",
        "  # Using the boxed formula\n",
        "  var_signal = bandpower(noise) * snr_linear\n",
        "  \n",
        "  # Normalizing the signal to have the given variance\n",
        "  normalized_signal = math.sqrt(var_signal) * (signal / math.sqrt(bandpower(signal)))\n",
        "  \n",
        "  print(\"SNR = \" + str(10 * math.log10(bandpower(normalized_signal) / bandpower(noise))))\n",
        "  \n",
        "  return normalized_signal + noise"
      ],
      "execution_count": 16,
      "outputs": []
    },
    {
      "cell_type": "markdown",
      "metadata": {
        "id": "At7izpjzNjPq"
      },
      "source": [
        "# 5. Filtering the data"
      ]
    },
    {
      "cell_type": "markdown",
      "metadata": {
        "id": "hVvL7sX0_lMw"
      },
      "source": [
        "The datasets are filtered to remove any transient peaks. Values between $10^{-7}$ and $1$ are retained, others are discarded."
      ]
    },
    {
      "cell_type": "code",
      "metadata": {
        "id": "BQdZ2vI69uvT",
        "colab": {
          "base_uri": "https://localhost:8080/"
        },
        "outputId": "0f768dd2-5fdd-49eb-b5ff-418394a81b82"
      },
      "source": [
        "# Datasets are filtered to contain values between 10 ^ -7 and 1\n",
        "\n",
        "FM = FM[np.logical_and(FM > math.pow(10, -7), FM < 1)]\n",
        "FM = FM.reshape(FM.shape[0], 1)\n",
        "\n",
        "# UHF = UHF[np.logical_and(UHF > math.pow(10, -7), UHF < 1)]\n",
        "# UHF = UHF.reshape(UHF.shape[0], 1)\n",
        "\n",
        "# GSM = GSM[np.logical_and(GSM > math.pow(10, -7), GSM < 1)]\n",
        "# GSM = GSM.reshape(GSM.shape[0], 1)\n",
        "\n",
        "# DCS = DCS[np.logical_and(DCS > math.pow(10, -7), DCS < 1)]\n",
        "# DCS = DCS.reshape(DCS.shape[0], 1)\n",
        "\n",
        "# Shape of FM signal vector\n",
        "print(\"Size of FM: \" + str(FM.shape))\n",
        "\n",
        "# # Shape of UHF signal vector\n",
        "# print(\"Size of UHF: \" + str(UHF.shape))\n",
        "\n",
        "# # Shape of GSM signal vector\n",
        "# print(\"Size of GSM: \" + str(GSM.shape))\n",
        "\n",
        "# # Shape of DCS signal vector\n",
        "# print(\"Size of DCS: \" + str(DCS.shape))\n",
        "\n",
        "# print(awgn(GSM[0:100000], 4).shape)"
      ],
      "execution_count": 17,
      "outputs": [
        {
          "output_type": "stream",
          "text": [
            "Size of FM: (1310720, 1)\n"
          ],
          "name": "stdout"
        }
      ]
    },
    {
      "cell_type": "markdown",
      "metadata": {
        "id": "1gBeiPhiBl3W"
      },
      "source": [
        "# 6. Making the dataset ready"
      ]
    },
    {
      "cell_type": "markdown",
      "metadata": {
        "id": "GIoGruYgCG58"
      },
      "source": [
        "The following will create a dataset for the signal with a given SNR, number of samples and size of the samples in the sensing event. Dataset is constructed based on Energy values: -\n",
        "\n",
        "Energy of the sensing event $E$ is given by,\n",
        "\n",
        "$$E = \\sum_{i = 1} ^{N} \\big|y[n]\\big|^{2} $$"
      ]
    },
    {
      "cell_type": "code",
      "metadata": {
        "id": "ilH_XSQ-CEfU"
      },
      "source": [
        "def create_dataset(signal, desired_snr, samples, sample_size):\n",
        "  \n",
        "  # Creating the signal with desired SNR\n",
        "  snr_signal = awgn(signal[0:samples * sample_size], desired_snr)\n",
        "  \n",
        "  # Allocating zeros to the dataset\n",
        "  X = np.zeros((samples, 1))\n",
        "  \n",
        "  for i in range(0, samples):\n",
        "    \n",
        "    # Extracting the sample based on sample size\n",
        "    sampled_signal = snr_signal[i * sample_size : (i + 1) * sample_size]\n",
        "    \n",
        "    # Sorting the sampled signal\n",
        "    sampled_signal = np.sort(sampled_signal, axis=0)\n",
        "    \n",
        "    # Energy detection\n",
        "    E = np.sum(sampled_signal ** 2)\n",
        "    \n",
        "    # Assigning values to the dataset\n",
        "    X[i][0] = E\n",
        "  \n",
        "  return X"
      ],
      "execution_count": 18,
      "outputs": []
    },
    {
      "cell_type": "code",
      "metadata": {
        "id": "cDZk1DcBJ_LI",
        "colab": {
          "base_uri": "https://localhost:8080/"
        },
        "outputId": "16ab0482-9be8-47d3-adb1-820865822162"
      },
      "source": [
        "a = time.time()\n",
        "print(create_dataset(FM[50000:], 4, 15000, 100).shape)\n",
        "b = time.time()\n",
        "\n",
        "# Printing the time taken for execution\n",
        "print(b - a)"
      ],
      "execution_count": 19,
      "outputs": [
        {
          "output_type": "stream",
          "text": [
            "SNR = 3.9999998731018307\n",
            "(15000, 1)\n",
            "0.22601032257080078\n"
          ],
          "name": "stdout"
        }
      ]
    },
    {
      "cell_type": "markdown",
      "metadata": {
        "id": "n0KSmaihiG-N"
      },
      "source": [
        "Making the dataset for all the SNRs in the range -20 till 4 with step size of 2. The following function will take a range of SNRs as input and will output the dataset. Other inputs are the sample size, the signal, and, the number of samples per SNR."
      ]
    },
    {
      "cell_type": "code",
      "metadata": {
        "id": "DgeNvokTUvqt"
      },
      "source": [
        "def final_dataset(signal, snr_range, samples_per_snr, sample_size):\n",
        "  X = {}\n",
        "  \n",
        "  for snr in snr_range:\n",
        "    # Creating dataset for the given SNR\n",
        "    X_snr = create_dataset(signal, snr, samples_per_snr, sample_size)\n",
        "    \n",
        "    # Indexing within the final dataset matrix X\n",
        "    X[snr] = X_snr\n",
        "  \n",
        "  return X"
      ],
      "execution_count": 20,
      "outputs": []
    },
    {
      "cell_type": "code",
      "metadata": {
        "id": "EomfBjFpvmKc",
        "colab": {
          "base_uri": "https://localhost:8080/"
        },
        "outputId": "8cb5a63c-b76d-41ce-e845-0a400ca5f15c"
      },
      "source": [
        "a = time.time()\n",
        "\n",
        "# FM\n",
        "X_FM = {**final_dataset(FM[100000:], range(-20, -4, 2), 5000, 100), **final_dataset(FM[100000:], range(-4, 6, 2), 12000, 100)}\n",
        "X_test_FM = final_dataset(FM[300000:], range(-20, 6, 2), 5129, 100)\n",
        "b = time.time()\n",
        "\n",
        "# Printing the time taken for execution\n",
        "print(\"Time taken :- \" + str(b - a))"
      ],
      "execution_count": 21,
      "outputs": [
        {
          "output_type": "stream",
          "text": [
            "SNR = -20.000001332349203\n",
            "SNR = -18.000001291873343\n",
            "SNR = -16.000000557150816\n",
            "SNR = -14.00000075537632\n",
            "SNR = -12.00000010897487\n",
            "SNR = -10.000000796315387\n",
            "SNR = -8.000001484905274\n",
            "SNR = -6.0000011995130755\n",
            "SNR = -4.0000000662436275\n",
            "SNR = -1.9999996884631805\n",
            "SNR = -1.3916347305518976e-06\n",
            "SNR = 1.9999995417690941\n",
            "SNR = 4.000000605666218\n",
            "SNR = -19.9999990211507\n",
            "SNR = -17.999998870093414\n",
            "SNR = -15.999999900916187\n",
            "SNR = -13.999999391140284\n",
            "SNR = -11.999999565297996\n",
            "SNR = -9.999999492819464\n",
            "SNR = -7.999999443160936\n",
            "SNR = -5.999998358182759\n",
            "SNR = -3.9999986129245113\n",
            "SNR = -1.9999983958030907\n",
            "SNR = 9.651244183959063e-07\n",
            "SNR = 2.0000007557536437\n",
            "SNR = 4.000000940338355\n",
            "Time taken :- 2.735877275466919\n"
          ],
          "name": "stdout"
        }
      ]
    },
    {
      "cell_type": "markdown",
      "metadata": {
        "id": "mqF-nzEnmVVb"
      },
      "source": [
        "# 7. Generating White noise sequence"
      ]
    },
    {
      "cell_type": "markdown",
      "metadata": {
        "id": "ALzRysIBmpqP"
      },
      "source": [
        "White noise of variance 1 is generated and is labelled as 0."
      ]
    },
    {
      "cell_type": "code",
      "metadata": {
        "id": "4hIilooqpOH3"
      },
      "source": [
        "def create_noise_sequence(samples, sample_size):\n",
        "  \n",
        "  # Creating white noise sequence of variance 1\n",
        "  noise = np.random.randn(samples * sample_size, 1)\n",
        "  \n",
        "  # Allocating zeros to the dataset\n",
        "  X = np.zeros((samples, 1))\n",
        "  \n",
        "  for i in range(0, samples):\n",
        "    \n",
        "    # Extracting the sample based on sample size\n",
        "    sampled_signal = noise[i * sample_size : (i + 1) * sample_size]\n",
        "    \n",
        "    # Sorting the sampled signal\n",
        "    sampled_signal = np.sort(sampled_signal, axis=0)\n",
        "    \n",
        "    # Energy detection\n",
        "    E = np.sum(sampled_signal ** 2)\n",
        "    \n",
        "    # Assigning values to the dataset\n",
        "    X[i][0] = E\n",
        "  \n",
        "  return X"
      ],
      "execution_count": 22,
      "outputs": []
    },
    {
      "cell_type": "code",
      "metadata": {
        "id": "I9XXv_OHqKQ1",
        "colab": {
          "base_uri": "https://localhost:8080/"
        },
        "outputId": "834f2ad2-6ba8-4449-a0e1-1b5f42a2f375"
      },
      "source": [
        "a = time.time()\n",
        "X_noise = create_noise_sequence(100000, 100)\n",
        "b = time.time()\n",
        "\n",
        "print(\"Time taken = \" + str(b - a))\n",
        "\n",
        "print(X_noise.shape)"
      ],
      "execution_count": 23,
      "outputs": [
        {
          "output_type": "stream",
          "text": [
            "Time taken = 1.5676159858703613\n",
            "(100000, 1)\n"
          ],
          "name": "stdout"
        }
      ]
    },
    {
      "cell_type": "markdown",
      "metadata": {
        "id": "eFRnTiAztUEw"
      },
      "source": [
        "# 8. Autocorrelation Function"
      ]
    },
    {
      "cell_type": "markdown",
      "metadata": {
        "id": "dbsAY5CpGyXe"
      },
      "source": [
        "The autocorrelation function for energy values is plotted for the wireless technology FM."
      ]
    },
    {
      "cell_type": "code",
      "metadata": {
        "id": "sNgqzI39tYe2"
      },
      "source": [
        "# for snr in range(-20, 6, 2):\n",
        "#   plt.figure(figsize=(15,7))\n",
        "#   ax = plt.subplot(211)\n",
        "\n",
        "#   x = X_UHF[snr][:, 0]\n",
        "#   x = x.reshape(x.shape[0], 1)\n",
        "\n",
        "#   sm.graphics.tsa.plot_acf(x, lags=50, ax=ax)\n",
        "#   plt.title(\"Autocorrelation in energy values at SNR = \" + str(snr))\n",
        "#   # ax = plt.subplot(212)\n",
        "#   # sm.graphics.tsa.plot_pacf(x, lags=50, ax=ax)\n",
        "#   # plt.title(\"Partial Autocorrelation in energy values at SNR = \" + str(snr))\n",
        "#   # plt.tight_layout()\n",
        "#   plt.show()"
      ],
      "execution_count": 24,
      "outputs": []
    },
    {
      "cell_type": "markdown",
      "metadata": {
        "id": "_odr-8KVRJ7B"
      },
      "source": [
        "# 9. DataSet with Lookback for ANN"
      ]
    },
    {
      "cell_type": "markdown",
      "metadata": {
        "id": "h3m9Qo97RRWM"
      },
      "source": [
        "The output of an Recurrent Neural network depends on the previous training examples. Here, we will define a lookback to determine how many previous examples should the RNN look into to predict the output."
      ]
    },
    {
      "cell_type": "code",
      "metadata": {
        "id": "2qFiKXvXRqC3"
      },
      "source": [
        "# Function for Chaning the dataset for look back\n",
        "def create_look_back(X, look_back=1):\n",
        "  \n",
        "  # Look back dataset is initialized to be empty\n",
        "  look_back_X = []\n",
        "  \n",
        "  for i in range(len(X) - look_back + 1):\n",
        "    # Extracting an example from the dataset\n",
        "    a = X[i:(i + look_back), :]\n",
        "    \n",
        "    a = a.flatten() # (For flattening)\n",
        "    \n",
        "    # Appending to the dataset\n",
        "    look_back_X.append(a)\n",
        "  \n",
        "  look_back_Y = []\n",
        "    \n",
        "  # Returning in numpy's array format\n",
        "  return np.array(look_back_X)"
      ],
      "execution_count": 25,
      "outputs": []
    },
    {
      "cell_type": "markdown",
      "metadata": {
        "id": "vmynJhmI5-h8"
      },
      "source": [
        "The following function will insert look backs into our dataset for all the SNRs."
      ]
    },
    {
      "cell_type": "code",
      "metadata": {
        "id": "BbrTVKx1cqAz"
      },
      "source": [
        "def dataset_look_back(X_tech, snr_range, look_back):\n",
        "  X_tech_lb = {}\n",
        "  \n",
        "  # Look backs for all SNRs\n",
        "  for snr in snr_range:\n",
        "    X_tech_lb[snr] = create_look_back(X_tech[snr], look_back)\n",
        "  \n",
        "  return X_tech_lb"
      ],
      "execution_count": 26,
      "outputs": []
    },
    {
      "cell_type": "code",
      "metadata": {
        "id": "deysOHwY6JCZ",
        "colab": {
          "base_uri": "https://localhost:8080/"
        },
        "outputId": "d2606fa6-0189-470b-d624-e3dae14f8444"
      },
      "source": [
        "look_back = 2\n",
        "\n",
        "X_FM_lb = dataset_look_back(X_FM, range(-20, 6, 2), look_back)\n",
        "print(X_FM_lb[-20].shape)\n",
        "\n",
        "X_noise_lb = create_look_back(X_noise, look_back)\n",
        "print(X_noise_lb.shape)\n",
        "\n",
        "X = X_FM_lb[-20]\n",
        "y = []\n",
        "\n",
        "for snr in range(-18, 6, 2):\n",
        "  X = np.concatenate((X, X_FM_lb[snr]), axis=0)\n",
        "\n",
        "y = np.ones((X.shape[0], 1))\n",
        " \n",
        "print(X.shape)\n",
        "print(X_noise_lb.shape)\n",
        "X = np.concatenate((X, X_noise_lb), axis=0)\n",
        "\n",
        "y = np.concatenate((y, np.zeros((X_noise_lb.shape[0], 1))))\n",
        "#Xtrain, Xtest, Ytrain and Ytest (in matlab as .mat files)"
      ],
      "execution_count": 27,
      "outputs": [
        {
          "output_type": "stream",
          "text": [
            "(4999, 2)\n",
            "(99999, 2)\n",
            "(99987, 2)\n",
            "(99999, 2)\n"
          ],
          "name": "stdout"
        }
      ]
    },
    {
      "cell_type": "markdown",
      "metadata": {
        "id": "K5G26cKoIDfb"
      },
      "source": [
        "# 10. Creating the ANN model"
      ]
    },
    {
      "cell_type": "markdown",
      "metadata": {
        "id": "ZpnYswAcIL9F"
      },
      "source": [
        "Defining a sequential model with two stacked LSTM layers with a single Dense output layer"
      ]
    },
    {
      "cell_type": "code",
      "metadata": {
        "id": "GOVZtargIGqd"
      },
      "source": [
        "seed = 9\n",
        "np.random.seed(seed)\n",
        "#Loading the data, here It's a feature data, which contains 4 features as mentioned in papers \n",
        "\n",
        "#ANN Model \n",
        "# create model\n",
        "model = Sequential() # This means it's sequential model, which is from one direction to another in sequence \n",
        "model.add(Dense(7, input_dim=2, kernel_initializer='uniform', activation='relu'))#First layer with 20 nodes and as we have 4 features so input_dim would be 4, relu suits well for binary classification so I have used it \n",
        "#model.add(Dense(10, init='uniform', activation='relu')) #You can add as many hidden layer you want, but with time complexity \n",
        "#model.add(Dense(5,init='uniform', activation='relu'))\n",
        "model.add(Dense(1, kernel_initializer='uniform', activation='sigmoid')) #Output layer\n",
        "\n",
        "# Compile model\n",
        "#This function you have to explore in case you want to do the mathematic analysis\n",
        "model.compile(loss='binary_crossentropy', optimizer='adam', metrics=['accuracy'])"
      ],
      "execution_count": 28,
      "outputs": []
    },
    {
      "cell_type": "markdown",
      "metadata": {
        "id": "44IdaHMvKG5N"
      },
      "source": [
        "# 11. Training the ANN model"
      ]
    },
    {
      "cell_type": "code",
      "metadata": {
        "id": "Bg3VPraVKFUO",
        "colab": {
          "base_uri": "https://localhost:8080/"
        },
        "outputId": "d43867e0-d6c5-4dda-ba3f-b060d919f759"
      },
      "source": [
        "# Fit the model\n",
        "#Training and batch size\n",
        "model.fit(X, y, epochs=40, batch_size=150,  verbose=2)\n",
        "\n",
        "#Evaluate the model\n",
        "scores = model.evaluate(X, y)\n",
        "print(\"\\n%s: %.2f%%\" % (model.metrics_names[1], scores[1]*100))\n"
      ],
      "execution_count": 29,
      "outputs": [
        {
          "output_type": "stream",
          "text": [
            "Epoch 1/40\n",
            "1334/1334 - 4s - loss: 0.5709 - accuracy: 0.6609\n",
            "Epoch 2/40\n",
            "1334/1334 - 2s - loss: 0.4445 - accuracy: 0.8006\n",
            "Epoch 3/40\n",
            "1334/1334 - 2s - loss: 0.4240 - accuracy: 0.8022\n",
            "Epoch 4/40\n",
            "1334/1334 - 2s - loss: 0.4213 - accuracy: 0.8014\n",
            "Epoch 5/40\n",
            "1334/1334 - 2s - loss: 0.4204 - accuracy: 0.8011\n",
            "Epoch 6/40\n",
            "1334/1334 - 2s - loss: 0.4175 - accuracy: 0.8031\n",
            "Epoch 7/40\n",
            "1334/1334 - 2s - loss: 0.4175 - accuracy: 0.8023\n",
            "Epoch 8/40\n",
            "1334/1334 - 2s - loss: 0.4167 - accuracy: 0.8030\n",
            "Epoch 9/40\n",
            "1334/1334 - 2s - loss: 0.4157 - accuracy: 0.8033\n",
            "Epoch 10/40\n",
            "1334/1334 - 2s - loss: 0.4164 - accuracy: 0.8031\n",
            "Epoch 11/40\n",
            "1334/1334 - 2s - loss: 0.4142 - accuracy: 0.8041\n",
            "Epoch 12/40\n",
            "1334/1334 - 2s - loss: 0.4139 - accuracy: 0.8041\n",
            "Epoch 13/40\n",
            "1334/1334 - 2s - loss: 0.4131 - accuracy: 0.8040\n",
            "Epoch 14/40\n",
            "1334/1334 - 2s - loss: 0.4135 - accuracy: 0.8042\n",
            "Epoch 15/40\n",
            "1334/1334 - 2s - loss: 0.4127 - accuracy: 0.8043\n",
            "Epoch 16/40\n",
            "1334/1334 - 2s - loss: 0.4127 - accuracy: 0.8047\n",
            "Epoch 17/40\n",
            "1334/1334 - 2s - loss: 0.4117 - accuracy: 0.8048\n",
            "Epoch 18/40\n",
            "1334/1334 - 2s - loss: 0.4122 - accuracy: 0.8043\n",
            "Epoch 19/40\n",
            "1334/1334 - 2s - loss: 0.4124 - accuracy: 0.8045\n",
            "Epoch 20/40\n",
            "1334/1334 - 2s - loss: 0.4113 - accuracy: 0.8051\n",
            "Epoch 21/40\n",
            "1334/1334 - 2s - loss: 0.4117 - accuracy: 0.8047\n",
            "Epoch 22/40\n",
            "1334/1334 - 2s - loss: 0.4120 - accuracy: 0.8051\n",
            "Epoch 23/40\n",
            "1334/1334 - 2s - loss: 0.4118 - accuracy: 0.8048\n",
            "Epoch 24/40\n",
            "1334/1334 - 2s - loss: 0.4119 - accuracy: 0.8046\n",
            "Epoch 25/40\n",
            "1334/1334 - 2s - loss: 0.4110 - accuracy: 0.8054\n",
            "Epoch 26/40\n",
            "1334/1334 - 2s - loss: 0.4118 - accuracy: 0.8050\n",
            "Epoch 27/40\n",
            "1334/1334 - 2s - loss: 0.4111 - accuracy: 0.8051\n",
            "Epoch 28/40\n",
            "1334/1334 - 2s - loss: 0.4119 - accuracy: 0.8047\n",
            "Epoch 29/40\n",
            "1334/1334 - 2s - loss: 0.4114 - accuracy: 0.8049\n",
            "Epoch 30/40\n",
            "1334/1334 - 2s - loss: 0.4117 - accuracy: 0.8054\n",
            "Epoch 31/40\n",
            "1334/1334 - 2s - loss: 0.4120 - accuracy: 0.8046\n",
            "Epoch 32/40\n",
            "1334/1334 - 2s - loss: 0.4113 - accuracy: 0.8051\n",
            "Epoch 33/40\n",
            "1334/1334 - 2s - loss: 0.4113 - accuracy: 0.8052\n",
            "Epoch 34/40\n",
            "1334/1334 - 2s - loss: 0.4118 - accuracy: 0.8051\n",
            "Epoch 35/40\n",
            "1334/1334 - 2s - loss: 0.4111 - accuracy: 0.8054\n",
            "Epoch 36/40\n",
            "1334/1334 - 2s - loss: 0.4114 - accuracy: 0.8049\n",
            "Epoch 37/40\n",
            "1334/1334 - 2s - loss: 0.4114 - accuracy: 0.8053\n",
            "Epoch 38/40\n",
            "1334/1334 - 2s - loss: 0.4109 - accuracy: 0.8055\n",
            "Epoch 39/40\n",
            "1334/1334 - 2s - loss: 0.4120 - accuracy: 0.8044\n",
            "Epoch 40/40\n",
            "1334/1334 - 2s - loss: 0.4109 - accuracy: 0.8052\n",
            "6250/6250 [==============================] - 9s 1ms/step - loss: 0.4084 - accuracy: 0.8071\n",
            "\n",
            "accuracy: 80.71%\n"
          ],
          "name": "stdout"
        }
      ]
    },
    {
      "cell_type": "code",
      "metadata": {
        "id": "0sjgBgDL-Qc2",
        "colab": {
          "base_uri": "https://localhost:8080/",
          "height": 960
        },
        "outputId": "b1682ef1-6ffc-4de8-8138-012413b8317f"
      },
      "source": [
        "#Plot of Pd v/s SNR\n",
        "pd_FM = {}\n",
        "\n",
        "for snr in range(-20, 6, 2):\n",
        "  y_snr = np.ones((X_FM_lb[snr].shape[0], 1))\n",
        "  scores = model.evaluate(X_FM_lb[snr], y_snr)\n",
        "  print(\"At SNR = \" + str(snr) + \"\\n%s: %.2f%%\" % (model.metrics_names[1], scores[1]*100))\n",
        "  pd_FM[snr] = scores[1]\n",
        "  \n",
        "plt.plot(range(-20, 6, 2), list(pd_FM.values()))\n"
      ],
      "execution_count": 30,
      "outputs": [
        {
          "output_type": "stream",
          "text": [
            "157/157 [==============================] - 0s 1ms/step - loss: 1.3051 - accuracy: 0.0552\n",
            "At SNR = -20\n",
            "accuracy: 5.52%\n",
            "157/157 [==============================] - 0s 1ms/step - loss: 1.2859 - accuracy: 0.0660\n",
            "At SNR = -18\n",
            "accuracy: 6.60%\n",
            "157/157 [==============================] - 0s 1ms/step - loss: 1.2632 - accuracy: 0.0722\n",
            "At SNR = -16\n",
            "accuracy: 7.22%\n",
            "157/157 [==============================] - 0s 1ms/step - loss: 1.1986 - accuracy: 0.1066\n",
            "At SNR = -14\n",
            "accuracy: 10.66%\n",
            "157/157 [==============================] - 0s 2ms/step - loss: 1.1259 - accuracy: 0.1530\n",
            "At SNR = -12\n",
            "accuracy: 15.30%\n",
            "157/157 [==============================] - 0s 1ms/step - loss: 0.9910 - accuracy: 0.2505\n",
            "At SNR = -10\n",
            "accuracy: 25.05%\n",
            "157/157 [==============================] - 0s 1ms/step - loss: 0.7768 - accuracy: 0.4351\n",
            "At SNR = -8\n",
            "accuracy: 43.51%\n",
            "157/157 [==============================] - 0s 1ms/step - loss: 0.4855 - accuracy: 0.6911\n",
            "At SNR = -6\n",
            "accuracy: 69.11%\n",
            "375/375 [==============================] - 1s 1ms/step - loss: 0.2213 - accuracy: 0.8717\n",
            "At SNR = -4\n",
            "accuracy: 87.17%\n",
            "375/375 [==============================] - 1s 1ms/step - loss: 0.1103 - accuracy: 0.9279\n",
            "At SNR = -2\n",
            "accuracy: 92.79%\n",
            "375/375 [==============================] - 1s 1ms/step - loss: 0.0657 - accuracy: 0.9581\n",
            "At SNR = 0\n",
            "accuracy: 95.81%\n",
            "375/375 [==============================] - 1s 1ms/step - loss: 0.0357 - accuracy: 0.9776\n",
            "At SNR = 2\n",
            "accuracy: 97.76%\n",
            "375/375 [==============================] - 1s 1ms/step - loss: 0.0176 - accuracy: 0.9886\n",
            "At SNR = 4\n",
            "accuracy: 98.86%\n"
          ],
          "name": "stdout"
        },
        {
          "output_type": "execute_result",
          "data": {
            "text/plain": [
              "[<matplotlib.lines.Line2D at 0x7fd694497518>]"
            ]
          },
          "metadata": {
            "tags": []
          },
          "execution_count": 30
        },
        {
          "output_type": "display_data",
          "data": {
            "image/png": "[encoded data removed]",
            "text/plain": [
              "<Figure size 432x288 with 1 Axes>"
            ]
          },
          "metadata": {
            "tags": [],
            "needs_background": "light"
          }
        }
      ]
    },
    {
      "cell_type": "code",
      "metadata": {
        "id": "u7WPSlCGUzdQ"
      },
      "source": [
        ""
      ],
      "execution_count": 30,
      "outputs": []
    }
  ]
}